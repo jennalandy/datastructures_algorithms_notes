{
 "cells": [
  {
   "cell_type": "markdown",
   "metadata": {},
   "source": [
    "# Complexity\n",
    "\n",
    "Slides 328 - 356"
   ]
  },
  {
   "cell_type": "markdown",
   "metadata": {},
   "source": [
    "## P, NP, NP-complete, NP-hard"
   ]
  },
  {
   "cell_type": "markdown",
   "metadata": {},
   "source": [
    "Big-O notation abstracts runtime and facilitates comparison, and complexity classes abstract it even more.\n",
    "\n",
    "A **decision problem** is a problem for which any proposed solution can be checked in polynomial time for correctness. For a decision problem, there exists a checking algorithm C that takes\n",
    "- Input: the given instance of the problem, I, and the proposed solution, S\n",
    "- Output: true iff S is a solution for I\n",
    "- Running time of C on an instance (I,S) is polynomial in |I|\n",
    "\n",
    "**NP** is the class of all decision problems. This is the set of all problems for which there exists a checking algorithm that determines if a proposed solution S is a correct solution for an instance of the problem I in polynomial time--the class of all *nondeterministic* polynomial time algorithms.\n",
    "- E.g. knapsack: we can convert knapsack into a decision problem by introducing a threshold (i.e. with value at least 22) and check that the solution meets that threshold.\n",
    "\n",
    "**P** is the class of all decision problems that can be solved in polynomial time, e.g. $O(n^k)$ for any fixed k, including k = 0.\n",
    "- $P \\subset NP$. it is unknown if $P = NP$ or $P \\ne NP$\n",
    "\n",
    "**NP-complete** is the class of NP problems that are \"as hard as\" any problem in NP. A problem p is NP-Complete if (1) $p \\in NP$, and (2) any problem $p' \\in NP$ can be reduced to, or translated into, p in polynomial time. If a NP-Complete problem can be solved in polynomial time, then any NP problem can be solved in polynomial time!\n",
    "- Examples: Circuit Satisfiability, Traveling Salesman, Maximum Clique\n",
    "- All current known NP-hard problems have been proved to be NP-complete\n",
    "\n",
    "**NP-hard** is the class of NP problems satisfying just number (2) any problem $p' \\in NP$ can be reduced to, or translated into, p in polynomial time.\n",
    "\n",
    "### How to get feasible, close solutions to NP problems\n",
    "(slide 346)\n",
    "- Approximation: search for a solution that is at most a factor from an optimal solution (e.g. using a greedy algorithm for the graph coloring problem below.\n",
    "- Randomization: use randomness to get a faster average running time, and allow the algorithm to fail with some small probability. Instead of brute force, test a random sample of possible solutions.\n",
    "- Restriction: restrict the structure of the input for faster, usually possible algorithms (e.g. reducing knapsack to fractional knapsack).\n",
    "- Parameterization: there are often fast algorithms if certain parameters of the input are fixed.\n",
    "- Heuristic: an algorithm that works \"reasonably well\" in many cases, but for which there is no proof that it is both always fast and always produces a good result."
   ]
  },
  {
   "cell_type": "markdown",
   "metadata": {},
   "source": [
    "## Reductions\n",
    "(Slides 347-350)\n",
    "\n",
    "A **reduction** form a decision problem A to a decision problem B ($A \\rightarrow B$) is a polynomial time algorithm $f$, together with another polynomial time algorithm, $h$.\n",
    "- $f$ transforms instance I of A to instance f(I) of B\n",
    "- $h$ maps a solution S of f(I) back to a solution h(S) of i\n",
    "- If f(I) has no solution, neither does I\n",
    "\n",
    "If a reduction $A \\rightarrow B$ exists, it implies B is at least as hard as A. \"A not harder than B\" can be denoted as $A \\le_P B$, $\\le_P$ showing the polynomial reduction.\n",
    "\n",
    "The implication is that the cost of solving A = M*(cost of solving B) + cost of reduction.\n",
    "\n",
    "Reductions can be helpful for designing algorithms, because we can reuse the algorithm to solve B if $A \\rightarrow B$. It can also prove hardness: if A is hard and $A\\rightarrow B$, then B is hard. Along those lines, reductions can help establish relative difficulty among problems.\n",
    "\n",
    "A reduction is **polynomial**, or A **polynomially reduces** to B if any arbitrary instance of A can be solved by using (1) a polynomial number of steps for reduction, and (b) one call to the subroutine or algorithm to solve for Y. All algorithms for which we know polynomial time algorithms will reduce to one another in polynomial time.\n",
    "\n",
    "**Tractable** problems can be solved in polynomial time. **Intractable** problems cannot.\n",
    "- $X \\le_P Y$ and Y is tractable $\\implies$ X is tractable\n",
    "- $Y \\le_P X$ and Y is intractable $\\implies$ X is intractable\n",
    "- $X \\le_P Y$ and $Y \\le_P Z \\implies X \\le_P Z$"
   ]
  },
  {
   "cell_type": "markdown",
   "metadata": {},
   "source": [
    "## Boolean Formula and SAT\n",
    "(slide 343-344)\n",
    "\n",
    "A **boolean formula in conjuctive normal form (CNF)** is a collection of clauses, each consisting of the disjunction (locial or, $V$) of several literals. A \"connection\" is in the form of $\\land$.\n",
    "\n",
    "A **literal** is either a boolean variable (such as X) or the negation of a boolean variable ($\\bar{X}$).\n",
    "\n",
    "If bool = $(x \\lor y) \\land z$, the first clause $x \\lor y$ has 2 literals, and the second clause $y$ has 1 literal. Then the following truth table applies\n",
    "\n",
    "x | y | z | bool\n",
    "----|----|----|----\n",
    "t|t|t|t\n",
    "t|t|f|f\n",
    "t|f|t|t\n",
    "f|t|t|t\n",
    "t|f|f|f\n",
    "f|t|f|f\n",
    "f|f|t|f\n",
    "f|f|f|f\n",
    "\n",
    "Because there are some instances where the boolean is true, this is a satisfiable boolean formula. If the right column were entirely false, this would be an unsatisfiable boolean formula.\n",
    "\n",
    "### Problem: SAT\n",
    "- Input: A boolean\n",
    "- Goal: Determine if the variables can be assigned in such a way as to make the formula evaluate to TRUE, or determine that no such assignment exists.\n",
    "\n",
    "This problem is **NP-complete**. It is **NP** because any given instance I as a specific boolean formula and possible solution S as T/F values assigned to each variable, we can determine whether the formula evaluates to TRUE.\n",
    "\n",
    "SAT can be used to simulate any non-deterministic Turing machine. With a tree of possible execution states of the Turing machine:\n",
    "1. A boolean logic formula can represent this tree: the 'state transition' function\n",
    "2. The formula asserts the final state is one where a solution has been found.\n",
    "3. Guessed variables determine which branch to take\n",
    "\n",
    "**3-SAT** is a special case of SAT when each clause contains exactly 3 literals."
   ]
  },
  {
   "cell_type": "markdown",
   "metadata": {},
   "source": [
    "## Reducing 3SAT to Independent Set\n",
    "\n",
    "Definition: A subset $S\\subset V$ of vertices forms an **independent set** of a graph G = (V,E) if there are no edges between vertices in $S$.\n",
    "\n",
    "**Independent Set**:\n",
    "- Input: a graph G = (V,E)\n",
    "- Goal: find the largest independent set (independent set with the most vertices)\n",
    "\n",
    "**Independent Set as a Decision Problem**:\n",
    "- Input: a graph G = (V,E) and a value g\n",
    "- Goal: find an independent set with g vertices\n",
    "- Now we can check in polynomial time that a possible solution S contains g vertices and the vertices are independent.\n",
    "\n",
    "**Reduce 3SAT to Independent Set**\n",
    "- Idea: turn a boolean formula with three literals per clause into a graph such that an independent set in the graph would correspond to a solution to the boolean formula.\n",
    "- f(I): must transform an instance of 3SAT to an instance of independent set\n",
    "    - Build a graph where each literal is a vertex. Each clause is transformed into a clique of three vertices, and then each literal $x$ is connected to its negation $\\bar{x}$, if it is in the clause, by an edge. This is the graph G = (V,E) that is an input to the independent set as a decision problem. The value, g, is the number of clauses.\n",
    "- h(S): must transform a solution of independent set to a solution of 3SAT\n",
    "    - If an independent set is found in the graph, then setting vertices selected to True will be the solution to the boolean formula. \n",
    "        - By construction of the graph, a literal $x$ and its negation $\\bar{x}$ will not be set to true at the same time because they are connected, so would not result in an independent set. \n",
    "        - Because each clause was set as a clique, even the largest independent set can only have one literal from each clause can be set at a time. \n",
    "        - If a vertex from each clique is selected, the boolean formula is True.\n",
    "        - If there is not a vertex from each clique, the boolean formula is False, and the solution to 3SAT is that no such assignment exists.\n",
    "    - If no independent set is found, then the solution to 3SAT is that no such assignment exists."
   ]
  },
  {
   "cell_type": "markdown",
   "metadata": {},
   "source": [
    "## Reducing 3SAT to 3Color\n",
    "(slides 352 - 353)\n",
    "\n",
    "**3-color**:\n",
    "- Input: a graph G = (V, E)\n",
    "- Goal: assign each vertex a color such that no two vertices sharing an edge have the same color, or decide that such a coloring is not possible\n",
    "\n",
    "**Reduce 3SAT to 3Color**:\n",
    "- f(I): must turn a boolean formula into a graph.\n",
    "    - Delcare the variables: a central vertex \"o\" exists. For each unique literal in the boolean formula, create a clique that is $x$, $\\bar{x}$, and $o$. Further, create a clique that is $True$, $False$, and $o$. Choose colors for $True$, $False$, and $o$ that will be used in the next step.\n",
    "    - Represent clauses: create a \"gadget\" for each cluase. Each gadget reuses 6 vertices from the declaration portion of the graph ($True$, $False$, $o$, and the three variables/negations in the clause). Each gadget also reuses the edges not between \"o\" and the literals.\n",
    "    - [This link](http://web.math.ucsb.edu/~padraic/ucsb_2014_15/ccs_problem_solving_w2015/NPFinal2.pdf) was very helpful for visualizing this process.\n",
    "    - This graph is colorable iff one of the literals is true, meaning the whole clause would be true.\n",
    "    - The input to 3-color is each of the graphs created from the representing clauses step.\n",
    "- h(S): must turn the solution to 3-color into the solution for 3-sat.\n",
    "    - If each graph was 3-colorable using the pre-determined colors for $True$, $False$, and $o$, then the solution to 3-SAT is that literals colored the same color as $True$ should be set to True! If not each graph was 3-colorable, there is no solution to make the 3-SAT boolean true."
   ]
  },
  {
   "cell_type": "markdown",
   "metadata": {},
   "source": [
    "## Maximum Clique and Vertex Cover\n",
    "\n",
    "**Definition**: G = (V, E) is a graph. A **clique** is a graph in which there is an edge between every two\n",
    "vertices. A subset $C \\subset V$ of vertices is a clique if $(v, w) \\in E$ for all $v, w \\in C$, $v \\ne w$.\n",
    "\n",
    "**Definition**: A **maximum clique** is a clique with the largest possible number of vertices.\n",
    "- A potential (approximate, not correct) greedy algorithm to find the clique with the most vertices would be to start with the highest degree vertices / most number of edges. But this does not guarantee the correct answer.\n",
    "\n",
    "**definition**: A **vertex cover** $V' \\subset V$ is a set of vertices that touches all edges.\n",
    "\n",
    "**Reduce Max Clique to Vertex Cover**: (slide 351)\n",
    "- Idea: C is a clique in G if and only if V\\C or V - C is a vertex cover in the complement of G\n",
    "- f(I): must transform an instance of Max Clique into an instance of Vertex Cover\n",
    "    - With the graph G used as an input to max clique, build graph G' as the complement of G. G' has the same set of vertices, but inverted edges. That is, $E' = \\{(v,w) \\forall v\\ne w \\in V | (v,w) \\notin E$\\}.\n",
    "- h(S): must transform a solution of Vertex Cover into a solution of Max Clique\n",
    "    - The set of vertices returned by vertex cover using graph $G'$ is the same set of vertices that should be returned by max clique using graph $G$!"
   ]
  },
  {
   "cell_type": "markdown",
   "metadata": {},
   "source": [
    "## Graph Partitioning\n",
    "\n",
    "G = (V,E) is a graph. Find $V_1, V_2 \\subset V$ such that $V_1 \\cap V_2 = \\emptyset$ and $V_1 \\cup V_2 = V$, and the number of edges between $V_1$ and $V_2$ is minimal."
   ]
  },
  {
   "cell_type": "markdown",
   "metadata": {},
   "source": [
    "## Number Partitioning\n",
    "\n",
    "Given a set of N positive numbers $S = \\{n_1, ..., n_N\\}$, is there a partition of this set of numbers into two disjoint subsets R and S\\R such that the sum of elements in both sets is the same?\n",
    "\n",
    "Find $R\\subset {1,..., N}$ such that $\\sum_{i \\in R}n_i = \\sum_{i \\notin R}n_i$"
   ]
  },
  {
   "cell_type": "markdown",
   "metadata": {},
   "source": [
    "## Minimum Vertex Cover\n",
    "\n",
    "G = (V, E) is a graph. A vertex cover $V' \\subset V$ is a set of vertices that touches all edges. A minimum vertex cover is a vertex over of minimal size.\n",
    "\n",
    "$\\forall (v, w) \\in E, v \\in V' \\text{ or } w \\in V'$"
   ]
  },
  {
   "cell_type": "markdown",
   "metadata": {},
   "source": [
    "## Knapsack\n",
    "\n",
    "Given capacity W and a set of n items $S = \\{s_1, ..., s_n\\}$, where each $s$ has a weight $w$ and value $v$. Maximize total value while keeping total weight under capacity."
   ]
  },
  {
   "cell_type": "markdown",
   "metadata": {},
   "source": [
    "## Graph coloring\n",
    "\n",
    "G = (V, E) is a graph. Assign one color to each vertex such that no vertices sharing an edge are the same color."
   ]
  },
  {
   "cell_type": "markdown",
   "metadata": {},
   "source": [
    "## Hamiltonian paths and cycles\n",
    "\n",
    "G = (V, E) is a directed or undirected graph. A Hamiltonian path is a path through all vertices which visits each vertex exactly once. A Hamiltonian cycle is a Hamiltonian path with the first and last vertex the same."
   ]
  },
  {
   "cell_type": "markdown",
   "metadata": {},
   "source": [
    "## Traveling Salesman Problem\n",
    "\n",
    "Find shortest possible / minimum weight hamiltonian cycle.\n",
    "\n",
    "Nearest neighbor heuristic: can get a near solution but not a complete solution. Start at an arbitrary \"home\" vertex, and at each vertex, greedily choose the nearest unvisited neighbor. In case of a tie, pick at random."
   ]
  },
  {
   "cell_type": "markdown",
   "metadata": {},
   "source": [
    "## Quantum unconstrained binary optimization (QUBO)\n",
    "\n",
    "Ising problems (1) $H(x_1,...,x_n) = \\sum a_ix_i + \\sum_{i<j}a_{ij}x_ix_j$\n",
    "\n",
    "Linear weights $a_i \\in \\mathbb{R}$ and quadratic couplers $a_{ij} \\in \\mathbb{R}$ define the problem.\n",
    "\n",
    "QUBO: $x_i \\in \\{0, 1\\}$\n",
    "- find $x_i$ which minimizes (1)\n",
    "- maximum cut, maximum clique, vertex cover, graph coloring, travelling salesman, etc. can all be reduced into QUBO.\n",
    "\n",
    "Ising: $x\n",
    "_i \\in \\{-1, +1\\}$\n",
    "\n",
    "Many NP-hard problems are minimizations of (1)\n",
    "\n",
    "$H(x_1,...,x_n) \\ge L$ can lead to a partial solution."
   ]
  }
 ],
 "metadata": {
  "kernelspec": {
   "display_name": "Python 3",
   "language": "python",
   "name": "python3"
  },
  "language_info": {
   "codemirror_mode": {
    "name": "ipython",
    "version": 3
   },
   "file_extension": ".py",
   "mimetype": "text/x-python",
   "name": "python",
   "nbconvert_exporter": "python",
   "pygments_lexer": "ipython3",
   "version": "3.8.5"
  }
 },
 "nbformat": 4,
 "nbformat_minor": 4
}
