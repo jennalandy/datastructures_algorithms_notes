{
 "cells": [
  {
   "cell_type": "markdown",
   "metadata": {},
   "source": [
    "# Dynamic Programming\n",
    "\n",
    "Dynamic programming is used when we need to access the same sub-problem more than once (\"memorizing\") because sub-problem overlap. If sub-problems do not overlap, we use divide and conquer."
   ]
  },
  {
   "cell_type": "code",
   "execution_count": 1,
   "metadata": {},
   "outputs": [],
   "source": [
    "from ipynb.fs.full.DataStructures import *"
   ]
  },
  {
   "cell_type": "code",
   "execution_count": 2,
   "metadata": {},
   "outputs": [],
   "source": [
    "import numpy as np\n",
    "import pandas as pd\n",
    "import itertools"
   ]
  },
  {
   "cell_type": "markdown",
   "metadata": {},
   "source": [
    "## 0-1 Knapsack\n",
    "Brute force"
   ]
  },
  {
   "cell_type": "code",
   "execution_count": 3,
   "metadata": {},
   "outputs": [
    {
     "data": {
      "text/plain": [
       "[(1, 2), (1, 3), (2, 3)]"
      ]
     },
     "execution_count": 3,
     "metadata": {},
     "output_type": "execute_result"
    }
   ],
   "source": [
    "list(itertools.combinations([1,2,3], 2))"
   ]
  },
  {
   "cell_type": "code",
   "execution_count": 4,
   "metadata": {},
   "outputs": [],
   "source": [
    "def zeroOneKnapsack(values, weights, capacity):\n",
    "    best_value = 0\n",
    "    best_combo = ()\n",
    "    items = list(range(len(values)))\n",
    "    for i in range(1,len(values)+1):\n",
    "        # trying combinations with i objects\n",
    "        for combo in itertools.combinations(items, i):\n",
    "            vals = [values[i] for i in combo]\n",
    "            wts = [weights[i] for i in combo]\n",
    "            total_weight = sum(wts)\n",
    "            total_vals = sum(vals)\n",
    "            \n",
    "            if total_vals > best_value and total_weight <= capacity:\n",
    "                best_value = total_vals\n",
    "                best_combo = combo\n",
    "    \n",
    "    return best_combo, best_value"
   ]
  },
  {
   "cell_type": "code",
   "execution_count": 5,
   "metadata": {},
   "outputs": [],
   "source": [
    "values = [60, 100, 120]\n",
    "weights = [10, 20, 30]\n",
    "capacity = 50"
   ]
  },
  {
   "cell_type": "code",
   "execution_count": 6,
   "metadata": {},
   "outputs": [
    {
     "data": {
      "text/plain": [
       "((1, 2), 220)"
      ]
     },
     "execution_count": 6,
     "metadata": {},
     "output_type": "execute_result"
    }
   ],
   "source": [
    "zeroOneKnapsack(values, weights, capacity)"
   ]
  },
  {
   "cell_type": "markdown",
   "metadata": {},
   "source": [
    "## Fractional Knapsack"
   ]
  },
  {
   "cell_type": "code",
   "execution_count": 7,
   "metadata": {},
   "outputs": [],
   "source": [
    "def fractionalKnapsack(values, weights, capacity):\n",
    "    items = list(range(1, len(values)+1))\n",
    "    knapsack = []\n",
    "    value_per_weight = pd.Series([values[i]/weights[i] for i in range(len(values))])\n",
    "    \n",
    "    while len(knapsack) < capacity:\n",
    "        to_take_idx = pd.Index(value_per_weight).get_loc(max(value_per_weight[[w > 0 for w in weights]]))\n",
    "        weights[to_take_idx] -= 1\n",
    "        knapsack.append(items[to_take_idx])\n",
    "        \n",
    "    return knapsack"
   ]
  },
  {
   "cell_type": "code",
   "execution_count": 8,
   "metadata": {},
   "outputs": [
    {
     "data": {
      "text/plain": [
       "(10, 20, 20)"
      ]
     },
     "execution_count": 8,
     "metadata": {},
     "output_type": "execute_result"
    }
   ],
   "source": [
    "values = [60, 100, 120]\n",
    "weights = [10, 20, 30]\n",
    "capacity = 50\n",
    "\n",
    "knapsack = fractionalKnapsack(values, weights, capacity)\n",
    "knapsack = pd.Series(knapsack)\n",
    "\n",
    "sum(knapsack == 1), sum(knapsack == 2), sum(knapsack == 3)"
   ]
  },
  {
   "cell_type": "markdown",
   "metadata": {},
   "source": [
    "## Dynamic Knapsack"
   ]
  },
  {
   "cell_type": "code",
   "execution_count": 9,
   "metadata": {},
   "outputs": [],
   "source": [
    "class Solution():\n",
    "    def __init__(self, combo = [], weight = 0, value = 0):\n",
    "        self.combo = combo\n",
    "        self.weight = weight\n",
    "        self.value = value\n",
    "        \n",
    "    def __repr__(self):\n",
    "        if type(self.combo) == int:\n",
    "            return str(self.combo)\n",
    "        return '&'.join([str(i) for i in self.combo])\n",
    "\n",
    "\n",
    "def dynamicKnapsack(values, weights, capacity):\n",
    "    # sols[i, j] is the intermediate solution using the first i values and capacity j\n",
    "    sols = [[Solution() for i in range(capacity + 1)] for j in range(len(values))]\n",
    "\n",
    "    # fill out sols[0, j] consider first item only\n",
    "    for c in range(len(sols[0])):\n",
    "        if weights[0] <= c:\n",
    "            sols[0][c].combo = [0]\n",
    "            sols[0][c].weight = weights[0]\n",
    "            sols[0][c].value = values[0]\n",
    "\n",
    "    # fill out sols[i, 0] consider weight 0\n",
    "    # no items should have weight 0 so can't take anything!\n",
    "    for i in range(len(sols)):\n",
    "        sols[i][0].combo = []\n",
    "        sols[i][0].weight = 0\n",
    "        sols[i][0].value = 0\n",
    "\n",
    "    # fill out sols[i, j]\n",
    "    for i in range(1, len(sols)):\n",
    "        for j in range(1, len(sols[0])):\n",
    "            if weights[i] > j:\n",
    "                sols[i][j] = sols[i - 1][j]\n",
    "            else:\n",
    "                v1 = sols[i - 1][j].value\n",
    "                v2 = sols[i - 1][j - weights[i]].value + values[i]\n",
    "                if v1 > v2:\n",
    "                    sols[i][j] = sols[i-1][j]\n",
    "                else:\n",
    "                    sols[i][j].combo = sols[i - 1][j - weights[i]].combo + [i]\n",
    "                    sols[i][j].weight = sols[i - 1][j - weights[i]].weight + weights[i]\n",
    "                    sols[i][j].value = sols[i - 1][j - weights[i]].value + values[i]\n",
    "    \n",
    "    return sols[-1][-1]"
   ]
  },
  {
   "cell_type": "code",
   "execution_count": 10,
   "metadata": {},
   "outputs": [],
   "source": [
    "values = [60, 100, 120]\n",
    "weights = [10, 20, 30]\n",
    "capacity = 50"
   ]
  },
  {
   "cell_type": "code",
   "execution_count": 11,
   "metadata": {},
   "outputs": [
    {
     "data": {
      "text/plain": [
       "(1&2, 220, 50)"
      ]
     },
     "execution_count": 11,
     "metadata": {},
     "output_type": "execute_result"
    }
   ],
   "source": [
    "best = dynamicKnapsack(values, weights, capacity)\n",
    "best, best.value, best.weight"
   ]
  },
  {
   "cell_type": "markdown",
   "metadata": {},
   "source": [
    "## Dijkstra's Algorithm"
   ]
  },
  {
   "cell_type": "code",
   "execution_count": 12,
   "metadata": {},
   "outputs": [],
   "source": [
    "def dijkstra(graph, start):\n",
    "    start = [v for v in vertices if v.v == start][0]\n",
    "\n",
    "    start.dist = 0\n",
    "\n",
    "    queue = [start]\n",
    "\n",
    "    while len(queue) > 0:\n",
    "        curr = queue.pop(0)\n",
    "        curr.checked = True\n",
    "        curr_edges = graph.es_from_v_directed(curr)\n",
    "        for edge in curr_edges:\n",
    "            if not edge.v2.checked and (\n",
    "                edge.v2.dist == None or \n",
    "                edge.v1.dist + edge.weight < edge.v2.dist\n",
    "            ):\n",
    "                edge.v2.dist = edge.v1.dist + edge.weight\n",
    "\n",
    "        queue.extend([c.v2 for c in \n",
    "                      sorted(curr_edges, key = lambda e: e.v2.dist) \n",
    "                      if not c.v2.checked\n",
    "        ])"
   ]
  },
  {
   "cell_type": "markdown",
   "metadata": {},
   "source": [
    "Directed Graph from side 240. Edge points from v1 to v2."
   ]
  },
  {
   "cell_type": "code",
   "execution_count": 13,
   "metadata": {},
   "outputs": [],
   "source": [
    "vertices = [Vertex(v) for v in ['A','B','C','D','E','F']]\n",
    "\n",
    "edges = []\n",
    "edges.append(Edge(vertices[0],vertices[1],4))\n",
    "edges.append(Edge(vertices[0],vertices[2],2))\n",
    "edges.append(Edge(vertices[1],vertices[2],5))\n",
    "edges.append(Edge(vertices[1],vertices[3],10))\n",
    "edges.append(Edge(vertices[2],vertices[4],3))\n",
    "edges.append(Edge(vertices[3],vertices[5],11))\n",
    "edges.append(Edge(vertices[4],vertices[3],4))\n",
    "\n",
    "graph1 = Graph(vertices, edges)"
   ]
  },
  {
   "cell_type": "code",
   "execution_count": 14,
   "metadata": {},
   "outputs": [],
   "source": [
    "dijkstra(graph1, start = \"A\")"
   ]
  },
  {
   "cell_type": "code",
   "execution_count": 15,
   "metadata": {},
   "outputs": [
    {
     "data": {
      "text/plain": [
       "20"
      ]
     },
     "execution_count": 15,
     "metadata": {},
     "output_type": "execute_result"
    }
   ],
   "source": [
    "graph1.vertices[-1].dist"
   ]
  },
  {
   "cell_type": "markdown",
   "metadata": {},
   "source": [
    "Graph from slide 241 - 246 example"
   ]
  },
  {
   "cell_type": "code",
   "execution_count": 16,
   "metadata": {},
   "outputs": [],
   "source": [
    "vertices = [Vertex(v) for v in ['s','t','y','x','z']]\n",
    "\n",
    "edges = []\n",
    "edges.append(Edge(vertices[0],vertices[1],10))\n",
    "edges.append(Edge(vertices[0],vertices[2],5))\n",
    "edges.append(Edge(vertices[1],vertices[2],2))\n",
    "edges.append(Edge(vertices[2],vertices[1],3))\n",
    "edges.append(Edge(vertices[1],vertices[3],1))\n",
    "edges.append(Edge(vertices[2],vertices[4],2))\n",
    "edges.append(Edge(vertices[2],vertices[3],9))\n",
    "edges.append(Edge(vertices[3],vertices[4],4))\n",
    "edges.append(Edge(vertices[4],vertices[3],6))\n",
    "edges.append(Edge(vertices[4],vertices[0],7))\n",
    "\n",
    "graph2 = Graph(vertices, edges)"
   ]
  },
  {
   "cell_type": "code",
   "execution_count": 17,
   "metadata": {},
   "outputs": [],
   "source": [
    "dijkstra(graph2, start = \"s\")"
   ]
  },
  {
   "cell_type": "code",
   "execution_count": 18,
   "metadata": {},
   "outputs": [
    {
     "data": {
      "text/plain": [
       "7"
      ]
     },
     "execution_count": 18,
     "metadata": {},
     "output_type": "execute_result"
    }
   ],
   "source": [
    "graph2.vertices[-1].dist"
   ]
  },
  {
   "cell_type": "markdown",
   "metadata": {},
   "source": [
    "## Sequence Alignment"
   ]
  },
  {
   "cell_type": "code",
   "execution_count": 19,
   "metadata": {},
   "outputs": [],
   "source": [
    "def direct_align(seq1, seq2):\n",
    "    return sum([seq1[i] == seq2[i] for i in range(min(len(seq1), len(seq2)))])        "
   ]
  },
  {
   "cell_type": "code",
   "execution_count": 20,
   "metadata": {},
   "outputs": [
    {
     "data": {
      "text/plain": [
       "9"
      ]
     },
     "execution_count": 20,
     "metadata": {},
     "output_type": "execute_result"
    }
   ],
   "source": [
    "direct_align(\"mathamatiks\", \"mathematics\")"
   ]
  },
  {
   "cell_type": "code",
   "execution_count": 21,
   "metadata": {},
   "outputs": [
    {
     "data": {
      "text/plain": [
       "5"
      ]
     },
     "execution_count": 21,
     "metadata": {},
     "output_type": "execute_result"
    }
   ],
   "source": [
    "direct_align(\"mathmaticks\", \"mathematics\")"
   ]
  },
  {
   "cell_type": "code",
   "execution_count": 22,
   "metadata": {},
   "outputs": [],
   "source": [
    "def smith_waterman(seq1, seq2, sim_score, gap_penalty):\n",
    "    # score[i, j] is between ith letter in seq1 and jth in seq 2\n",
    "    score = [[-1 for j in range(len(seq2) + 1)] for i in range(len(seq1) + 1)]\n",
    "    score[0] = [0 for i in range(len(seq2) + 1)]\n",
    "    for i in range(len(seq1) + 1):\n",
    "        score[i][0] = 0\n",
    "\n",
    "    for i in range(1, len(seq1) + 1):\n",
    "        for j in range(1, len(seq2) + 1):\n",
    "            opt1 = score[i-1][j-1] + sim_score(seq1[i-1], seq2[j-1])\n",
    "            opt2s = [score[i-k][j] - gap_penalty(k) for k in range(1, i+1)]\n",
    "            opt2 = max(opt2s)\n",
    "            opt3s = [score[i][j-k] - gap_penalty(k) for k in range(1, j+1)]\n",
    "            opt3 = max(opt3s)\n",
    "            opt4 = 0\n",
    "\n",
    "            score[i][j] = max([opt1, opt2, opt3, opt4])\n",
    "    "
   ]
  },
  {
   "cell_type": "code",
   "execution_count": 23,
   "metadata": {},
   "outputs": [],
   "source": [
    "def smith_waterman(seq1, seq2, sim_score, gap_penalty):\n",
    "    score = build_score(seq1, seq2, sim_score, gap_penalty)\n",
    "    return traceback(score, seq1, seq2)\n",
    "\n",
    "def build_score(seq1, seq2, sim_score, gap_penalty):\n",
    "    # score[i, j] is between ith letter in seq1 and jth in seq 2\n",
    "    score = [[-1 for j in range(len(seq2) + 1)] for i in range(len(seq1) + 1)]\n",
    "    score[0] = [0 for i in range(len(seq2) + 1)]\n",
    "    for i in range(len(seq1) + 1):\n",
    "        score[i][0] = 0\n",
    "\n",
    "    for i in range(1, len(seq1) + 1):\n",
    "        for j in range(1, len(seq2) + 1):\n",
    "            opt1 = score[i-1][j-1] + sim_score(seq1[i-1], seq2[j-1])\n",
    "            opt2s = [score[i-k][j] - gap_penalty(k) for k in range(1, i+1)]\n",
    "            opt2 = max(opt2s)\n",
    "            opt3s = [score[i][j-k] - gap_penalty(k) for k in range(1, j+1)]\n",
    "            opt3 = max(opt3s)\n",
    "            opt4 = 0\n",
    "\n",
    "            score[i][j] = max([opt1, opt2, opt3, opt4])\n",
    "            \n",
    "    return score\n",
    "        \n",
    "def get_max_idx(matrix):\n",
    "    matrix = pd.DataFrame(matrix)\n",
    "    m = max(matrix.max())\n",
    "    rows = pd.Series([m in matrix.iloc[i].values for i in range(matrix.shape[0])])\n",
    "    row = pd.Index(rows).get_loc(True)\n",
    "    col = pd.Index(matrix.iloc[row]).get_loc(m)\n",
    "    return row, col\n",
    "\n",
    "def traceback(score, seq1, seq2):\n",
    "    out1 = ''\n",
    "    out2 = ''\n",
    "\n",
    "    i, j = get_max_idx(score)\n",
    "\n",
    "    while True:\n",
    "        up = score[i][j-1]\n",
    "        diag = score[i-1][j-1]\n",
    "        left = score[i-1][j]\n",
    "\n",
    "        if up <= 0 and diag <= 0 and left <= 0:\n",
    "            i -= 1\n",
    "            j -= 1\n",
    "            out1 = seq1[i] + out1\n",
    "            out2 = seq2[j] + out2\n",
    "            break\n",
    "\n",
    "        m = max(up, diag, left)\n",
    "        if m == up:\n",
    "            j -= 1\n",
    "            out1 = '-' + out1\n",
    "            out2 = seq2[j] + out2\n",
    "        elif m == diag:\n",
    "            i -= 1\n",
    "            j -= 1\n",
    "            out1 = seq1[i] + out1\n",
    "            out2 = seq2[j] + out2\n",
    "        elif m == left:\n",
    "            i -= 1\n",
    "            out1 = seq1[i] + out1\n",
    "            out2 = '-' + out2\n",
    "            \n",
    "    return out1, out2"
   ]
  },
  {
   "cell_type": "markdown",
   "metadata": {},
   "source": [
    "example from slide 252"
   ]
  },
  {
   "cell_type": "code",
   "execution_count": 24,
   "metadata": {},
   "outputs": [],
   "source": [
    "seq2 = \"tgttacgg\"\n",
    "seq1 = \"ggttgacta\"\n",
    "\n",
    "def sim_score(a, b):\n",
    "    if a == b:\n",
    "        return 3\n",
    "    else:\n",
    "        return -3\n",
    "\n",
    "def gap_penalty(k):\n",
    "    return 2*k"
   ]
  },
  {
   "cell_type": "code",
   "execution_count": 25,
   "metadata": {},
   "outputs": [
    {
     "data": {
      "text/plain": [
       "('ggttgac', 'g-tt-ac')"
      ]
     },
     "execution_count": 25,
     "metadata": {},
     "output_type": "execute_result"
    }
   ],
   "source": [
    "smith_waterman(seq1, seq2, sim_score, gap_penalty)"
   ]
  },
  {
   "cell_type": "markdown",
   "metadata": {},
   "source": [
    "example from slide 249"
   ]
  },
  {
   "cell_type": "code",
   "execution_count": 26,
   "metadata": {},
   "outputs": [
    {
     "data": {
      "text/plain": [
       "('math-maticks', 'mathematic-s')"
      ]
     },
     "execution_count": 26,
     "metadata": {},
     "output_type": "execute_result"
    }
   ],
   "source": [
    "smith_waterman('mathmaticks', 'mathematics', sim_score, gap_penalty)"
   ]
  }
 ],
 "metadata": {
  "kernelspec": {
   "display_name": "Python 3",
   "language": "python",
   "name": "python3"
  },
  "language_info": {
   "codemirror_mode": {
    "name": "ipython",
    "version": 3
   },
   "file_extension": ".py",
   "mimetype": "text/x-python",
   "name": "python",
   "nbconvert_exporter": "python",
   "pygments_lexer": "ipython3",
   "version": "3.8.5"
  }
 },
 "nbformat": 4,
 "nbformat_minor": 4
}
