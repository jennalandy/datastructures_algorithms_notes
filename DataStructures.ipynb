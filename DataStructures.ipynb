{
 "cells": [
  {
   "cell_type": "markdown",
   "metadata": {},
   "source": [
    "# Data Structure Implementations"
   ]
  },
  {
   "cell_type": "code",
   "execution_count": 1,
   "metadata": {},
   "outputs": [],
   "source": [
    "import numpy as np\n",
    "import matplotlib.pyplot as plt"
   ]
  },
  {
   "cell_type": "markdown",
   "metadata": {},
   "source": [
    "## Array"
   ]
  },
  {
   "cell_type": "code",
   "execution_count": 2,
   "metadata": {},
   "outputs": [],
   "source": [
    "class Array:\n",
    "    def __init__(self, length):\n",
    "        self.length = length\n",
    "        self.values = [None]*length\n",
    "        \n",
    "    def insert(self, index, value):\n",
    "        self.values[index] = value\n",
    "        \n",
    "    def remove_index(self, index):\n",
    "        self.values[index] = None\n",
    "        \n",
    "    def remove_value(self, value):\n",
    "        while value in self.values:\n",
    "            self.values[self.values.index(value)] = None"
   ]
  },
  {
   "cell_type": "code",
   "execution_count": 3,
   "metadata": {},
   "outputs": [
    {
     "name": "stdout",
     "output_type": "stream",
     "text": [
      "[2, None, None, None, None, 'cat', 2, None, None, None]\n",
      "[None, None, None, None, None, 'cat', None, None, None, None]\n"
     ]
    }
   ],
   "source": [
    "a = Array(length = 10)\n",
    "a.insert(index = 0, value = 2)\n",
    "a.insert(index = 5, value = \"cat\")\n",
    "a.insert(index = 6, value = 2)\n",
    "print(a.values)\n",
    "a.remove_value(2)\n",
    "print(a.values)"
   ]
  },
  {
   "cell_type": "markdown",
   "metadata": {},
   "source": [
    "## Doubly Linked List"
   ]
  },
  {
   "cell_type": "code",
   "execution_count": 4,
   "metadata": {},
   "outputs": [],
   "source": [
    "class LinkedListNode:\n",
    "    \n",
    "    next = None\n",
    "    prev = None\n",
    "    \n",
    "    def __init__(self, key, value):\n",
    "        self.key = key\n",
    "        self.value = value\n",
    "    \n",
    "    def remove_next(self):\n",
    "        self.next = None\n",
    "    \n",
    "    def set_next(self, node):\n",
    "        self.next = node\n",
    "            \n",
    "    def remove_prev(self):\n",
    "        self.prev = None\n",
    "        \n",
    "    def set_prev(self, node):\n",
    "        self.prev = node\n",
    "\n",
    "class LinkedList:\n",
    "    \n",
    "    def __init__(self, root_key, root_value):\n",
    "        self.root = LinkedListNode(root_key, root_value)\n",
    "        \n",
    "    def append(self, key, value):\n",
    "        # append a new node to the end of the linked list\n",
    "        curr_node = self.root\n",
    "        \n",
    "        while curr_node.next != None:\n",
    "            curr_node = curr_node.next\n",
    "            \n",
    "        newnode = LinkedListNode(key, value)\n",
    "        newnode.set_prev(curr_node)\n",
    "        curr_node.set_next(newnode)\n",
    "        \n",
    "    def prepend(self, key, value):\n",
    "        node = LinkedListNode(key, value)\n",
    "        node.set_next(self.root)\n",
    "        self.root.set_prev(node)\n",
    "        self.root = node\n",
    "        \n",
    "    def pop(self):\n",
    "        # remove the node from the end of the linked list\n",
    "        curr_node = self.root\n",
    "        \n",
    "        while curr_node.next != None:\n",
    "            prev_node = curr_node\n",
    "            curr_node = curr_node.next\n",
    "                    \n",
    "        curr_node.remove_prev()\n",
    "        prev_node.remove_next()\n",
    "        \n",
    "        return curr_node\n",
    "    \n",
    "    def get_values(self):\n",
    "        curr_node = self.root\n",
    "        values = [curr_node.value]\n",
    "        while curr_node.next != None:\n",
    "            curr_node = curr_node.next\n",
    "            values.append(curr_node.value)\n",
    "        return values\n",
    "    \n",
    "    def get_keys(self):\n",
    "        curr_node = self.root\n",
    "        keys = [curr_node.key]\n",
    "        while curr_node.next != None:\n",
    "            curr_node = curr_node.next\n",
    "            keys.append(curr_node.key)\n",
    "        return keys\n",
    "    \n",
    "    def get_length(self):\n",
    "        n = 1\n",
    "        curr_node = self.root\n",
    "        while curr_node.next != None:\n",
    "            curr_node = curr_node.next\n",
    "            n += 1\n",
    "        return n"
   ]
  },
  {
   "cell_type": "code",
   "execution_count": 5,
   "metadata": {},
   "outputs": [
    {
     "name": "stdout",
     "output_type": "stream",
     "text": [
      "['monkey', 'cat', 'dog']\n",
      "['monkey', 'cat']\n",
      "2 dog\n",
      "[3, 1]\n"
     ]
    }
   ],
   "source": [
    "linkedlist = LinkedList(1, 'cat')\n",
    "linkedlist.append(2, 'dog')\n",
    "linkedlist.prepend(3, 'monkey')\n",
    "print(linkedlist.get_values())\n",
    "lastnode = linkedlist.pop()\n",
    "print(linkedlist.get_values())\n",
    "print(lastnode.key, lastnode.value)\n",
    "print(linkedlist.get_keys())"
   ]
  },
  {
   "cell_type": "markdown",
   "metadata": {},
   "source": [
    "## Stack"
   ]
  },
  {
   "cell_type": "code",
   "execution_count": 6,
   "metadata": {},
   "outputs": [],
   "source": [
    "class Stack:\n",
    "    # last in first out\n",
    "    def __init__(self, n, top_val):\n",
    "        self.top = 0\n",
    "        self.values = [None]*n\n",
    "        self.values[self.top] = top_val\n",
    "        \n",
    "    def push(self, val):\n",
    "        self.values[self.top-1] = val\n",
    "        self.top = self.top-1\n",
    "        \n",
    "    def pop(self):\n",
    "        out = self.values[self.top]\n",
    "        self.values[self.top] = None\n",
    "        self.top = self.top - 1\n",
    "        return out"
   ]
  },
  {
   "cell_type": "code",
   "execution_count": 7,
   "metadata": {},
   "outputs": [
    {
     "data": {
      "text/plain": [
       "[1, None, None, None, None, None, None, None, None, None]"
      ]
     },
     "execution_count": 7,
     "metadata": {},
     "output_type": "execute_result"
    }
   ],
   "source": [
    "s = Stack(n = 10, top_val = 1)\n",
    "s.values"
   ]
  },
  {
   "cell_type": "code",
   "execution_count": 8,
   "metadata": {},
   "outputs": [
    {
     "data": {
      "text/plain": [
       "([1, None, None, None, None, None, None, None, 2, 12], -2)"
      ]
     },
     "execution_count": 8,
     "metadata": {},
     "output_type": "execute_result"
    }
   ],
   "source": [
    "s.push(12)\n",
    "s.push(2)\n",
    "s.values, s.top"
   ]
  },
  {
   "cell_type": "code",
   "execution_count": 9,
   "metadata": {},
   "outputs": [
    {
     "data": {
      "text/plain": [
       "([1, None, None, None, None, None, None, None, None, 12], -3, 2)"
      ]
     },
     "execution_count": 9,
     "metadata": {},
     "output_type": "execute_result"
    }
   ],
   "source": [
    "o = s.pop()\n",
    "s.values, s.top, o"
   ]
  },
  {
   "cell_type": "markdown",
   "metadata": {},
   "source": [
    "## Queue"
   ]
  },
  {
   "cell_type": "code",
   "execution_count": 10,
   "metadata": {},
   "outputs": [],
   "source": [
    "class Queue:\n",
    "    # first in first out\n",
    "    def __init__(self, n, first_val = None):\n",
    "        self.values = [None]*n\n",
    "        self.head = 0\n",
    "        self.tail = 0\n",
    "        if first_val != None:\n",
    "            self.values[self.head] = first_val\n",
    "            self.tail = self.tail + 1\n",
    "    \n",
    "    def enqueue(self, val):\n",
    "        self.values[self.tail] = val\n",
    "        self.tail = self.tail + 1\n",
    "        \n",
    "    def dequeue(self):\n",
    "        out = self.values[self.head]\n",
    "        self.values[self.head] = None\n",
    "        self.head = self.head - 1\n",
    "        return out"
   ]
  },
  {
   "cell_type": "code",
   "execution_count": 11,
   "metadata": {},
   "outputs": [
    {
     "data": {
      "text/plain": [
       "[None, None, None, None, None, None, None, None, None, None]"
      ]
     },
     "execution_count": 11,
     "metadata": {},
     "output_type": "execute_result"
    }
   ],
   "source": [
    "q = Queue(n = 10)\n",
    "q.values"
   ]
  },
  {
   "cell_type": "code",
   "execution_count": 12,
   "metadata": {},
   "outputs": [
    {
     "data": {
      "text/plain": [
       "[12, 13, 14, None, None, None, None, None, None, None]"
      ]
     },
     "execution_count": 12,
     "metadata": {},
     "output_type": "execute_result"
    }
   ],
   "source": [
    "q.enqueue(12)\n",
    "q.enqueue(13)\n",
    "q.enqueue(14)\n",
    "q.values"
   ]
  },
  {
   "cell_type": "code",
   "execution_count": 13,
   "metadata": {},
   "outputs": [
    {
     "data": {
      "text/plain": [
       "(12, [None, 13, 14, None, None, None, None, None, None, None])"
      ]
     },
     "execution_count": 13,
     "metadata": {},
     "output_type": "execute_result"
    }
   ],
   "source": [
    "o = q.dequeue()\n",
    "o, q.values"
   ]
  },
  {
   "cell_type": "markdown",
   "metadata": {},
   "source": [
    "## Binary Tree"
   ]
  },
  {
   "cell_type": "code",
   "execution_count": 14,
   "metadata": {},
   "outputs": [],
   "source": [
    "class BinaryTree:\n",
    "    left = None\n",
    "    right = None\n",
    "    parent = None\n",
    "    \n",
    "    def __init__(self, key, value, left = None, right = None):\n",
    "        self.key = key\n",
    "        self.value = value\n",
    "        if left != None:\n",
    "            self.left = left\n",
    "        if right != None:\n",
    "            self.right = right\n",
    "            \n",
    "    def __repr__(self):\n",
    "        return  \"key: \" + str(self.key) + \", value: \" + str(self.value)\n",
    "    \n",
    "    def set_right(self, right):\n",
    "        self.right = right\n",
    "    \n",
    "    def set_left(self, left):\n",
    "        self.left = left\n",
    "        \n",
    "    def set_parent(self, parent):\n",
    "        self.parent = parent\n",
    "        \n",
    "    def insert(self, key, value):\n",
    "        node = BinaryTree(key, value)\n",
    "        if self.left == None:\n",
    "            self.set_left(node)\n",
    "            node.set_parent(self)\n",
    "        elif self.right == None:\n",
    "            self.set_right(node)\n",
    "            node.set_parent(node)\n",
    "        else:\n",
    "            self.left.insert(key, value)\n",
    "            \n",
    "    def inorder(self):\n",
    "        # left self right\n",
    "        order = []\n",
    "        if self.left != None:\n",
    "            order += self.left.inorder()\n",
    "        order.append(self.key)\n",
    "        if self.right != None:\n",
    "            order += self.right.inorder()\n",
    "        return order\n",
    "    \n",
    "    def preorder(self):\n",
    "        # self left right\n",
    "        order = []\n",
    "        order.append(self.key)\n",
    "        if self.left != None:\n",
    "            order += self.left.inorder()\n",
    "        if self.right != None:\n",
    "            order += self.right.inorder()\n",
    "        return order\n",
    "    \n",
    "    def postorder(self):\n",
    "        # left right self\n",
    "        order = []\n",
    "        if self.left != None:\n",
    "            order += self.left.inorder()\n",
    "        if self.right != None:\n",
    "            order += self.right.inorder()\n",
    "        order.append(self.key)\n",
    "        return order"
   ]
  },
  {
   "cell_type": "code",
   "execution_count": 15,
   "metadata": {},
   "outputs": [],
   "source": [
    "t = BinaryTree(1, 'cat')\n",
    "t.insert(2, 'dog')\n",
    "t.insert(3, 'tiger')\n",
    "t.insert(4, 'bear')"
   ]
  },
  {
   "cell_type": "code",
   "execution_count": 16,
   "metadata": {},
   "outputs": [
    {
     "data": {
      "text/plain": [
       "key: 1, value: cat"
      ]
     },
     "execution_count": 16,
     "metadata": {},
     "output_type": "execute_result"
    }
   ],
   "source": [
    "t"
   ]
  },
  {
   "cell_type": "code",
   "execution_count": 17,
   "metadata": {},
   "outputs": [
    {
     "data": {
      "text/plain": [
       "key: 1, value: cat"
      ]
     },
     "execution_count": 17,
     "metadata": {},
     "output_type": "execute_result"
    }
   ],
   "source": [
    "t.left.parent"
   ]
  },
  {
   "cell_type": "code",
   "execution_count": 18,
   "metadata": {},
   "outputs": [
    {
     "data": {
      "text/plain": [
       "[4, 2, 1, 3]"
      ]
     },
     "execution_count": 18,
     "metadata": {},
     "output_type": "execute_result"
    }
   ],
   "source": [
    "t.inorder()"
   ]
  },
  {
   "cell_type": "code",
   "execution_count": 19,
   "metadata": {},
   "outputs": [
    {
     "data": {
      "text/plain": [
       "[1, 4, 2, 3]"
      ]
     },
     "execution_count": 19,
     "metadata": {},
     "output_type": "execute_result"
    }
   ],
   "source": [
    "t.preorder()"
   ]
  },
  {
   "cell_type": "code",
   "execution_count": 20,
   "metadata": {},
   "outputs": [
    {
     "data": {
      "text/plain": [
       "[4, 2, 3, 1]"
      ]
     },
     "execution_count": 20,
     "metadata": {},
     "output_type": "execute_result"
    }
   ],
   "source": [
    "t.postorder()"
   ]
  },
  {
   "cell_type": "markdown",
   "metadata": {},
   "source": [
    "## Binary Search Tree"
   ]
  },
  {
   "cell_type": "code",
   "execution_count": 21,
   "metadata": {},
   "outputs": [],
   "source": [
    "class BinarySearchTree(BinaryTree):\n",
    "    \n",
    "    def insert(self, key, value):\n",
    "        node = BinarySearchTree(key, value)\n",
    "        if key < self.key:\n",
    "            if self.left == None:\n",
    "                self.set_left(node)\n",
    "                node.set_parent(self)\n",
    "            else:\n",
    "                self.left.insert(key, value)\n",
    "        if key > self.key:\n",
    "            if self.right == None:\n",
    "                self.set_right(node)\n",
    "                node.set_parent(self)\n",
    "            else:\n",
    "                self.right.insert(key, value)\n",
    "                \n",
    "    def search(self, key):\n",
    "        if key == self.key:\n",
    "            return self\n",
    "        elif key < self.key:\n",
    "            if self.left == None:\n",
    "                print(\"Not found\")\n",
    "                return None\n",
    "            return self.left.search(key)\n",
    "        else:\n",
    "            if self.right == None:\n",
    "                print(\"Not found\")\n",
    "                return None\n",
    "            return self.right.search(key)\n",
    "        \n",
    "\n",
    "    def get_max(self):\n",
    "        if self.right == None:\n",
    "            return self\n",
    "        return self.right.get_max()\n",
    "    \n",
    "    def get_min(self):\n",
    "        if self.left == None:\n",
    "            return self\n",
    "        return self.left.get_min()\n",
    "    \n",
    "    def is_right_child(self):\n",
    "        if self.parent.right == None:\n",
    "            return False\n",
    "        if self.parent.right.key == self.key:\n",
    "            return True\n",
    "        return False\n",
    "    \n",
    "    def is_left_child(self):\n",
    "        if self.parent.left == None:\n",
    "            return False\n",
    "        if self.parent.left.key == self.key:\n",
    "            return True\n",
    "        return False\n",
    "    \n",
    "    def is_leaf(self):\n",
    "        return self.left == None and self.right == None\n",
    "    \n",
    "    def get_successor(self):\n",
    "        succ = None\n",
    "        if self.right!=None:\n",
    "            x = self.right\n",
    "            while x != None:\n",
    "                store = x\n",
    "                x = x.left\n",
    "            succ = store\n",
    "        else:\n",
    "            if self.parent != None:\n",
    "                if self.parent.left==self:\n",
    "                    succ = self.parent\n",
    "                else:\n",
    "                    self.parent.right = None\n",
    "                    succ = self.parent.get_successor()\n",
    "                    self.parent.right = self\n",
    "                    \n",
    "        return succ\n",
    "    \n",
    "    def delete(self, key):\n",
    "        to_delete = self.search(key)\n",
    "        \n",
    "        if to_delete.is_leaf():\n",
    "            # has no children\n",
    "            if to_delete.parent == None:\n",
    "                # this is root\n",
    "                self.key = None\n",
    "                self.value = None\n",
    "            elif to_delete.is_right_child():\n",
    "                to_delete.parent.right = None\n",
    "            else:\n",
    "                to_delete.parent.left = None\n",
    "        \n",
    "        elif to_delete.right == None or to_delete.left == None:\n",
    "            # has one child\n",
    "            if to_delete.right == None:\n",
    "                # only has left\n",
    "                replace_with = to_delete.left\n",
    "            else:\n",
    "                # only has right\n",
    "                replace_with = to_delete.right\n",
    "                \n",
    "            if to_delete.is_right_child():\n",
    "                to_delete.parent.right = replace_with\n",
    "                to_delete.parent.right.parent = to_delete.parent\n",
    "            if to_delete.is_left_child():\n",
    "                to_delete.parent.left = replace_with\n",
    "                to_delete.parent.left.parent = to_delete.parent\n",
    "        \n",
    "        else:\n",
    "            # has two children\n",
    "            # find a replacement for this node that is bigger than left but smaller than right\n",
    "            replace_with = to_delete.get_successor()            \n",
    "            is_root = False\n",
    "            \n",
    "            if to_delete.parent == None:\n",
    "                is_root = True\n",
    "            elif to_delete.is_right_child():\n",
    "                to_delete.parent.right = replace_with\n",
    "            else:\n",
    "                to_delete.parent.left = replace_with\n",
    "            \n",
    "            replace_with.parent.delete(replace_with.key)\n",
    "            replace_with.right = to_delete.right\n",
    "            replace_with.left = to_delete.left\n",
    "            replace_with.parent = to_delete.parent\n",
    "            \n",
    "            if is_root:\n",
    "                self.key = replace_with.key\n",
    "                self.value = replace_with.value"
   ]
  },
  {
   "cell_type": "code",
   "execution_count": 22,
   "metadata": {},
   "outputs": [],
   "source": [
    "t = BinarySearchTree(3, 'tiger')\n",
    "t.insert(2, 'dog')\n",
    "t.insert(1, 'cat')\n",
    "t.insert(4, 'bear')"
   ]
  },
  {
   "cell_type": "raw",
   "metadata": {},
   "source": [
    "    3\n",
    "  2   4\n",
    "1  "
   ]
  },
  {
   "cell_type": "code",
   "execution_count": 23,
   "metadata": {},
   "outputs": [
    {
     "data": {
      "text/plain": [
       "[1, 2, 3, 4]"
      ]
     },
     "execution_count": 23,
     "metadata": {},
     "output_type": "execute_result"
    }
   ],
   "source": [
    "t.inorder()"
   ]
  },
  {
   "cell_type": "code",
   "execution_count": 24,
   "metadata": {},
   "outputs": [],
   "source": [
    "t.delete(2)"
   ]
  },
  {
   "cell_type": "raw",
   "metadata": {},
   "source": [
    "    3\n",
    "  1   4"
   ]
  },
  {
   "cell_type": "code",
   "execution_count": 25,
   "metadata": {},
   "outputs": [
    {
     "data": {
      "text/plain": [
       "[1, 3, 4]"
      ]
     },
     "execution_count": 25,
     "metadata": {},
     "output_type": "execute_result"
    }
   ],
   "source": [
    "t.inorder()"
   ]
  },
  {
   "cell_type": "code",
   "execution_count": 26,
   "metadata": {},
   "outputs": [],
   "source": [
    "t.insert(0, 'lion')\n",
    "t.insert(2, 'dog')\n",
    "t.insert(3.3, 'ant')"
   ]
  },
  {
   "cell_type": "raw",
   "metadata": {},
   "source": [
    "      3\n",
    "  1       4\n",
    "0  2   3.3"
   ]
  },
  {
   "cell_type": "code",
   "execution_count": 27,
   "metadata": {},
   "outputs": [
    {
     "data": {
      "text/plain": [
       "[0, 1, 2, 3, 3.3, 4]"
      ]
     },
     "execution_count": 27,
     "metadata": {},
     "output_type": "execute_result"
    }
   ],
   "source": [
    "t.inorder()"
   ]
  },
  {
   "cell_type": "code",
   "execution_count": 28,
   "metadata": {},
   "outputs": [],
   "source": [
    "t.delete(1)"
   ]
  },
  {
   "cell_type": "raw",
   "metadata": {},
   "source": [
    "      3\n",
    "  2       4\n",
    "0      3.3"
   ]
  },
  {
   "cell_type": "code",
   "execution_count": 29,
   "metadata": {},
   "outputs": [
    {
     "data": {
      "text/plain": [
       "[0, 2, 3, 3.3, 4]"
      ]
     },
     "execution_count": 29,
     "metadata": {},
     "output_type": "execute_result"
    }
   ],
   "source": [
    "t.inorder()"
   ]
  },
  {
   "cell_type": "code",
   "execution_count": 30,
   "metadata": {},
   "outputs": [],
   "source": [
    "t.delete(3)"
   ]
  },
  {
   "cell_type": "raw",
   "metadata": {},
   "source": [
    "     3.3\n",
    "  2       4\n",
    "0      "
   ]
  },
  {
   "cell_type": "code",
   "execution_count": 31,
   "metadata": {},
   "outputs": [
    {
     "data": {
      "text/plain": [
       "key: 3.3, value: ant"
      ]
     },
     "execution_count": 31,
     "metadata": {},
     "output_type": "execute_result"
    }
   ],
   "source": [
    "t"
   ]
  },
  {
   "cell_type": "code",
   "execution_count": 32,
   "metadata": {},
   "outputs": [
    {
     "data": {
      "text/plain": [
       "[0, 2, 3.3, 4]"
      ]
     },
     "execution_count": 32,
     "metadata": {},
     "output_type": "execute_result"
    }
   ],
   "source": [
    "t.inorder()"
   ]
  },
  {
   "cell_type": "code",
   "execution_count": 33,
   "metadata": {},
   "outputs": [
    {
     "data": {
      "text/plain": [
       "key: 3.3, value: ant"
      ]
     },
     "execution_count": 33,
     "metadata": {},
     "output_type": "execute_result"
    }
   ],
   "source": [
    "t.search(3.3)"
   ]
  },
  {
   "cell_type": "code",
   "execution_count": 34,
   "metadata": {},
   "outputs": [
    {
     "name": "stdout",
     "output_type": "stream",
     "text": [
      "Not found\n"
     ]
    }
   ],
   "source": [
    "t.search(12)"
   ]
  },
  {
   "cell_type": "code",
   "execution_count": 35,
   "metadata": {},
   "outputs": [
    {
     "data": {
      "text/plain": [
       "key: 4, value: bear"
      ]
     },
     "execution_count": 35,
     "metadata": {},
     "output_type": "execute_result"
    }
   ],
   "source": [
    "t.get_max()"
   ]
  },
  {
   "cell_type": "code",
   "execution_count": 36,
   "metadata": {},
   "outputs": [
    {
     "data": {
      "text/plain": [
       "key: 0, value: lion"
      ]
     },
     "execution_count": 36,
     "metadata": {},
     "output_type": "execute_result"
    }
   ],
   "source": [
    "t.get_min()"
   ]
  },
  {
   "cell_type": "code",
   "execution_count": 37,
   "metadata": {},
   "outputs": [
    {
     "data": {
      "text/plain": [
       "key: 4, value: bear"
      ]
     },
     "execution_count": 37,
     "metadata": {},
     "output_type": "execute_result"
    }
   ],
   "source": [
    "t.get_successor()"
   ]
  },
  {
   "cell_type": "code",
   "execution_count": 38,
   "metadata": {},
   "outputs": [
    {
     "data": {
      "text/plain": [
       "key: 3.3, value: ant"
      ]
     },
     "execution_count": 38,
     "metadata": {},
     "output_type": "execute_result"
    }
   ],
   "source": [
    "t.left.get_successor()"
   ]
  },
  {
   "cell_type": "code",
   "execution_count": 39,
   "metadata": {},
   "outputs": [],
   "source": [
    "t.right.get_successor()"
   ]
  },
  {
   "cell_type": "code",
   "execution_count": 40,
   "metadata": {},
   "outputs": [
    {
     "data": {
      "text/plain": [
       "key: 1, value: cat"
      ]
     },
     "execution_count": 40,
     "metadata": {},
     "output_type": "execute_result"
    }
   ],
   "source": [
    "t.left.left.get_successor()"
   ]
  },
  {
   "cell_type": "markdown",
   "metadata": {},
   "source": [
    "## Heap"
   ]
  },
  {
   "cell_type": "code",
   "execution_count": 41,
   "metadata": {},
   "outputs": [],
   "source": [
    "class Heap():\n",
    "    \n",
    "    def __init__(self, capacity, heaplist = []):\n",
    "        # we want to 1-index so always start with one value \"*\" in the heaplist\n",
    "        self.capacity = capacity\n",
    "        self.heaplist = [\"*\"] + heaplist\n",
    "        self.currentsize = len(heaplist)\n",
    "        \n",
    "        if self.currentsize > 0:\n",
    "#             print(\"building\")\n",
    "            for i in range(self.currentsize//2, 0, -1):\n",
    "#                 print(self.heaplist[i])\n",
    "                self.maxHeapify(i)\n",
    "    \n",
    "    # if we 1-index, A[1] is root, and A[floor(i/2)] is the parent of A[i]\n",
    "    # left child of A[i] is A[2i], right child is A[2i+1]\n",
    "    \n",
    "    def isFull(self):\n",
    "        return self.capacity == self.currentsize\n",
    "    \n",
    "    def insert(self, item):\n",
    "        if self.isFull():\n",
    "            return False\n",
    "        else:\n",
    "            self.heaplist.append(item)\n",
    "            self.currentsize += 1\n",
    "            self.maxHeapify(self.currentsize)\n",
    "            return True\n",
    "            \n",
    "    def maxHeapify(self, i):\n",
    "#         print(\"heapifying\", self.heaplist[i])\n",
    "        # swap entry with largest child if heap property is not satisfied\n",
    "        \n",
    "        l = 2*i\n",
    "        r = 2*i+1\n",
    "            \n",
    "        if l <= self.currentsize and self.heaplist[l] > self.heaplist[i]:\n",
    "            largest = l\n",
    "        else:\n",
    "            largest = i\n",
    "        if r <= self.currentsize and self.heaplist[r] > self.heaplist[largest]:\n",
    "            largest = r\n",
    "        if largest != i:\n",
    "#             print(\"swapping\", self.heaplist[i], self.heaplist[largest])\n",
    "            temp = self.heaplist[i]\n",
    "            self.heaplist[i] = self.heaplist[largest]\n",
    "            self.heaplist[largest] = temp\n",
    "            \n",
    "            self.maxHeapify(largest)\n",
    "    \n",
    "    def removeRoot():\n",
    "        pass\n",
    "    \n",
    "    def getRoot():\n",
    "        pass\n",
    "    \n",
    "    def isEmpty():\n",
    "        pass\n",
    "    \n",
    "    def getSize():\n",
    "        pass\n",
    "    \n",
    "    def clear():\n",
    "        pass"
   ]
  },
  {
   "cell_type": "raw",
   "metadata": {},
   "source": [
    "             16\n",
    "          1     10\n",
    "       14  4   3   2\n",
    "      9  8"
   ]
  },
  {
   "cell_type": "raw",
   "metadata": {},
   "source": [
    "heapifying 1\n",
    "swapping 1 14\n",
    "             16\n",
    "         14     10\n",
    "        1  4   3   2\n",
    "      9  8"
   ]
  },
  {
   "cell_type": "raw",
   "metadata": {},
   "source": [
    "heapifying 1\n",
    "swapping 1 9\n",
    "             16\n",
    "         14     10\n",
    "        9  4   3   2\n",
    "      1  8"
   ]
  },
  {
   "cell_type": "code",
   "execution_count": 42,
   "metadata": {},
   "outputs": [
    {
     "data": {
      "text/plain": [
       "['*', 16, 14, 10, 9, 4, 3, 2, 1, 8]"
      ]
     },
     "execution_count": 42,
     "metadata": {},
     "output_type": "execute_result"
    }
   ],
   "source": [
    "h = Heap(capacity = 12, heaplist = [16,1,10,14,4,3,2,9,8])\n",
    "h.heaplist"
   ]
  },
  {
   "cell_type": "markdown",
   "metadata": {},
   "source": [
    "example from slide 169 - builds correctly"
   ]
  },
  {
   "cell_type": "code",
   "execution_count": 43,
   "metadata": {},
   "outputs": [
    {
     "data": {
      "text/plain": [
       "['*', 16, 14, 10, 8, 7, 9, 3, 2, 4, 1]"
      ]
     },
     "execution_count": 43,
     "metadata": {},
     "output_type": "execute_result"
    }
   ],
   "source": [
    "h = Heap(capacity = 12, heaplist = [4,1,3,2,16,9,10,14,8,7])\n",
    "h.heaplist"
   ]
  },
  {
   "cell_type": "markdown",
   "metadata": {},
   "source": [
    "See heapsort in [Sorting Algorithms](Sorting.ipynb)"
   ]
  },
  {
   "cell_type": "markdown",
   "metadata": {},
   "source": [
    "# Graph"
   ]
  },
  {
   "cell_type": "code",
   "execution_count": 44,
   "metadata": {},
   "outputs": [],
   "source": [
    "class Edge():\n",
    "    \n",
    "    def __init__(self, v1, v2, weight):\n",
    "        self.v1 = v1\n",
    "        self.v2 = v2\n",
    "        self.weight = weight\n",
    "        \n",
    "    def __repr__(self):\n",
    "        return str(self.v1.v) + '-' + str(self.v2.v) + ': ' + str(self.weight)\n",
    "\n",
    "class Vertex():\n",
    "    \n",
    "    def __init__(self, v):\n",
    "        self.v = v\n",
    "        self.dist = None # used in Dijkstra's, see Dynamic Programming notebook\n",
    "        self.checked = False # used in Dijkstra's\n",
    "        \n",
    "    def __repr__(self):\n",
    "        return str(self.v)\n",
    "    \n",
    "class Graph():\n",
    "    \n",
    "    def __init__(self, V, E):\n",
    "        self.vertices = V\n",
    "        self.edges = E\n",
    "        \n",
    "    def es_from_v_directed(self, v):\n",
    "        edges = []\n",
    "        \n",
    "        for e in self.edges:\n",
    "            if e.v1 == v:\n",
    "                edges.append(e)\n",
    "        \n",
    "        return(edges)\n",
    "    "
   ]
  }
 ],
 "metadata": {
  "kernelspec": {
   "display_name": "Python 3",
   "language": "python",
   "name": "python3"
  },
  "language_info": {
   "codemirror_mode": {
    "name": "ipython",
    "version": 3
   },
   "file_extension": ".py",
   "mimetype": "text/x-python",
   "name": "python",
   "nbconvert_exporter": "python",
   "pygments_lexer": "ipython3",
   "version": "3.8.5"
  }
 },
 "nbformat": 4,
 "nbformat_minor": 4
}
