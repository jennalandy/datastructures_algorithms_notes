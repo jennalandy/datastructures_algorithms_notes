{
 "cells": [
  {
   "cell_type": "markdown",
   "metadata": {},
   "source": [
    "# Divide and Conquer\n",
    "\n",
    "Divide and conquer is a technique that breaks the problem into subproblems that are themselves smaller instances of the type of problem. A divide and conquer algorithm recursively solves these subproblems and appropriately combines their ansers.\n",
    "\n",
    "Because divide and conquer algorithms are recursive, we can prove their correctness with induction.\n",
    "\n",
    "(Slides 79 - 88, 285 - 288)"
   ]
  },
  {
   "cell_type": "code",
   "execution_count": 16,
   "metadata": {},
   "outputs": [],
   "source": [
    "import numpy as np"
   ]
  },
  {
   "cell_type": "code",
   "execution_count": 17,
   "metadata": {},
   "outputs": [
    {
     "name": "stdout",
     "output_type": "stream",
     "text": [
      "Requirement already satisfied: ipynb in /Users/jenna/opt/anaconda3/lib/python3.8/site-packages (0.5.1)\n"
     ]
    }
   ],
   "source": [
    "!pip install ipynb\n",
    "from ipynb.fs.full.nb3Sorting import *"
   ]
  },
  {
   "cell_type": "markdown",
   "metadata": {},
   "source": [
    "## Searching\n",
    "- Input: a list of numbers, sorted in increasing order $A = [a_0, a_1, ..., a_{n-1}]$ and a number x\n",
    "- Goal: return the position of x in A or return a statement that x is not in the list\n",
    "\n",
    "**BinarySearch(A, x, min, max)**\n",
    "initially min = 0, max = n-1\n",
    "1. if max < min: return \"$x \\notin A$\"\n",
    "2. mididx = floor((max + min)/2)\n",
    "3. if x < A[mididx] then return BinarySearch(A, x, min, mididx-1)\n",
    "4. else if x > A[mididx] then return binarySearch(A, x, mididx + 1, max)\n",
    "5. else return mididx\n",
    "\n",
    "**Proof of Correctness**:\n",
    "- Part 1: show that if $x \\in A$, then binary search will return an index i such that A[i] = x.\n",
    "    - Base case: n = 0, so in the first iteration max - min = 0, so max = min = mididx. We know $x\\in A$, so x = A[min] = A[max] = A[mididx]. Step 5 tells us to return A[mididx], so it returns i = mididx such that A[i] = x $\\checkmark$\n",
    "    - Strong inductive hypothesis: suppose $x \\in A[min:max]$ and $min - max \\le k$, then binary search returns an index i such that A[i] = x.\n",
    "    - Inductive step: now suppose $max - min = k + 1$ and $x \\in [min:max]$.\n",
    "        - case 1: x < A[mididx]. Because A is sorted, x must be in A[min:mididx - 1], and we return binary search on A[min:mididx - 1] in step 3. $mididx - 1 - min \\lt max - min = k + 1$ so $mididx - 1 - min \\le k$. Thus, by the strong inductive hypothesis, this returns an i s.t. A[i] = x. $\\checkmark$\n",
    "        - case 2: x > A[mididx]. Because A is sorted, x must be in A[mididx + 1:max], and we return binary search on A[mididx + 1:max] in step 3. $max - 1 - mididx \\lt max - min = k + 1$ so $max - 1 - mididx \\le k$. Thus, by the strong inductive hypothesis, this returns an i s.t. A[i] = x. $\\checkmark$\n",
    "        - case 3 x = a[mididx]. We return mididx on step 5, so it returns an i s.t. A[i] = x $\\checkmark$\n",
    "    - Thus if $x \\in A[min:max]$, binary search returns an index i such that A[i] = x for all k = max - min!\n",
    "- Part 2: show that if $x \\notin A$, then binary search will return a statement that $x \\notin A$. \n",
    "    - Suppose $x \\notin A$\n",
    "    - Now suppose binary search returns a value j. The only way binary search returns a value is if A[value] = x, so A[j] must equal x. Then $x \\in A$ and we have reached a contradiction.\n",
    "    - Thus $x\\notin A \\implies$ binary search will return a statement that $x \\notin A$."
   ]
  },
  {
   "cell_type": "code",
   "execution_count": 7,
   "metadata": {},
   "outputs": [],
   "source": [
    "def BinarySearchInner(A, x, minimum, maximum):\n",
    "    if minimum > maximum:\n",
    "        return str(x) + \"not in list\"\n",
    "    mid = (minimum + maximum)//2\n",
    "    if x < A[mid]:\n",
    "        return BinarySearch(A, x, minimum, mid-1)\n",
    "    elif x > A[mid]:\n",
    "        return BinarySearch(A, x, mid+1, maximum)\n",
    "    elif x == A[mid]:\n",
    "        return mid\n",
    "    \n",
    "def BinarySearch(A, x):\n",
    "    return BinarySearchInner(A, x, 0, len(A) - 1)"
   ]
  },
  {
   "cell_type": "code",
   "execution_count": 8,
   "metadata": {},
   "outputs": [
    {
     "data": {
      "text/plain": [
       "1"
      ]
     },
     "execution_count": 8,
     "metadata": {},
     "output_type": "execute_result"
    }
   ],
   "source": [
    "BinarySearch([1,2,3],2)"
   ]
  },
  {
   "cell_type": "markdown",
   "metadata": {},
   "source": [
    "## Merge sort\n",
    "see [sorting](nb3Sorting.ipynb) notebook"
   ]
  },
  {
   "cell_type": "markdown",
   "metadata": {},
   "source": [
    "## Sums\n",
    "Slide 286"
   ]
  },
  {
   "cell_type": "code",
   "execution_count": 18,
   "metadata": {},
   "outputs": [],
   "source": [
    "def mySum(L):\n",
    "    if len(L) == 0:\n",
    "        return 0\n",
    "    elif len(L) == 1:\n",
    "        return L[0]\n",
    "    elif len(L) == 2:\n",
    "        return L[0] + L[1]\n",
    "    else:\n",
    "        mid = len(L)//2\n",
    "        return mySum(L[:mid]) + mySum(L[mid:])"
   ]
  },
  {
   "cell_type": "code",
   "execution_count": 19,
   "metadata": {},
   "outputs": [
    {
     "data": {
      "text/plain": [
       "6"
      ]
     },
     "execution_count": 19,
     "metadata": {},
     "output_type": "execute_result"
    }
   ],
   "source": [
    "mySum([1,2,3])"
   ]
  },
  {
   "cell_type": "markdown",
   "metadata": {},
   "source": [
    "## BucketSort\n",
    "Slide 287.\n",
    "Parallel MergeSort. \n",
    "- Divide data into regions, one region = one bucket. Sort within the bucket with any algorithm. O(n/m log(n/m))\n",
    "- Merge together into a fully sorted sequence. O(n)\n",
    "- Overall O(n + n/m log(n/m))\n",
    "\n",
    "This implementation isn't actually parallelized. For that, we'd want the line `sorted_chunks = [heapsort(chunk) for chunk in chunks]` to split the `heapsort` processes across multiple processors."
   ]
  },
  {
   "cell_type": "code",
   "execution_count": 20,
   "metadata": {},
   "outputs": [],
   "source": [
    "def chunkIt(L, nbuckets):\n",
    "    n = len(L)\n",
    "    bucket_size = n // nbuckets\n",
    "    out = []\n",
    "\n",
    "    for i in range(nbuckets):\n",
    "        if i == nbuckets - 1:\n",
    "            # last, go to end even if bigger than bucket size\n",
    "            out.append(L[\n",
    "                i*bucket_size:n\n",
    "            ])\n",
    "        else:\n",
    "            out.append(L[\n",
    "                i*bucket_size:\n",
    "                min(i*bucket_size+bucket_size, n)\n",
    "            ])\n",
    "\n",
    "    return out\n",
    "\n",
    "def bucketSort(L, nbuckets):\n",
    "    # L = list to sort\n",
    "    # nbuckets = # of buckets to use\n",
    "    chunks = chunkIt(L, nbuckets)\n",
    "    \n",
    "    sorted_chunks = [heapsort(chunk) for chunk in chunks]\n",
    "    \n",
    "    while len(sorted_chunks) > 1:        \n",
    "        merged_chunks = []\n",
    "        \n",
    "        for i in range(len(sorted_chunks)//2):\n",
    "            merged_chunks.append(merge(sorted_chunks[i], sorted_chunks[i+1]))\n",
    "            \n",
    "        if len(sorted_chunks) % 2 != 0:\n",
    "            # if odd number of chunks, last one didnt get merged\n",
    "            merged_chunks.append(sorted_chunks[-1])\n",
    "                        \n",
    "        sorted_chunks = merged_chunks\n",
    "        \n",
    "    return sorted_chunks[0]"
   ]
  },
  {
   "cell_type": "code",
   "execution_count": 21,
   "metadata": {},
   "outputs": [
    {
     "data": {
      "text/plain": [
       "[1, 2, 3, 4, 12]"
      ]
     },
     "execution_count": 21,
     "metadata": {},
     "output_type": "execute_result"
    }
   ],
   "source": [
    "bucketSort([1, 4, 3, 2, 12], 3)"
   ]
  },
  {
   "cell_type": "markdown",
   "metadata": {},
   "source": [
    "## Numerical integration\n",
    "Slide 289"
   ]
  },
  {
   "cell_type": "markdown",
   "metadata": {},
   "source": [
    "TODO CHECK THIS"
   ]
  },
  {
   "cell_type": "code",
   "execution_count": 108,
   "metadata": {},
   "outputs": [],
   "source": [
    "def numerical_integration(function, xrange, n_rect):\n",
    "    # split\n",
    "    chunks = np.array_split(np.array(xrange), n_rect)\n",
    "    \n",
    "    \n",
    "    # area under each section\n",
    "    areas = []\n",
    "    for i in range(len(chunks)-1):\n",
    "        r = (chunks[i][0], chunks[i+1][0])\n",
    "        width = r[-1] - r[0]\n",
    "        center = 0.5*(function(r[-1]) + function(r[0]))\n",
    "        height = function(center)\n",
    "        area = height*width\n",
    "        areas.append(area)\n",
    "            \n",
    "    # combine\n",
    "    return sum(areas)"
   ]
  },
  {
   "cell_type": "code",
   "execution_count": 109,
   "metadata": {},
   "outputs": [],
   "source": [
    "def f(x):\n",
    "    return rex**2"
   ]
  },
  {
   "cell_type": "code",
   "execution_count": 110,
   "metadata": {},
   "outputs": [
    {
     "data": {
      "text/plain": [
       "32210.75"
      ]
     },
     "execution_count": 110,
     "metadata": {},
     "output_type": "execute_result"
    }
   ],
   "source": [
    "numerical_integration(f, range(0, 12), 12)"
   ]
  },
  {
   "cell_type": "code",
   "execution_count": 112,
   "metadata": {},
   "outputs": [
    {
     "data": {
      "text/plain": [
       "6656.0"
      ]
     },
     "execution_count": 112,
     "metadata": {},
     "output_type": "execute_result"
    }
   ],
   "source": [
    "numerical_integration(f, range(0, 12), 3)"
   ]
  }
 ],
 "metadata": {
  "kernelspec": {
   "display_name": "Python 3",
   "language": "python",
   "name": "python3"
  },
  "language_info": {
   "codemirror_mode": {
    "name": "ipython",
    "version": 3
   },
   "file_extension": ".py",
   "mimetype": "text/x-python",
   "name": "python",
   "nbconvert_exporter": "python",
   "pygments_lexer": "ipython3",
   "version": "3.8.5"
  }
 },
 "nbformat": 4,
 "nbformat_minor": 4
}
