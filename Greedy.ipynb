{
 "cells": [
  {
   "cell_type": "markdown",
   "metadata": {},
   "source": [
    "# Greedy Algorithms"
   ]
  },
  {
   "cell_type": "code",
   "execution_count": 1,
   "metadata": {},
   "outputs": [
    {
     "name": "stdout",
     "output_type": "stream",
     "text": [
      "[2, None, None, None, None, 'cat', 2, None, None, None]\n",
      "[None, None, None, None, None, 'cat', None, None, None, None]\n",
      "['monkey', 'cat', 'dog']\n",
      "['monkey', 'cat']\n",
      "2 dog\n",
      "[3, 1]\n",
      "Not found\n"
     ]
    }
   ],
   "source": [
    "from ipynb.fs.full.DataStructures import *"
   ]
  },
  {
   "cell_type": "markdown",
   "metadata": {},
   "source": [
    "## Counting Money\n",
    "\n",
    "- Task: return certain amount of money using fewest possible bills and coins\n",
    "- Greedy solution: at each step, take the largest possible bill and coin, subtract from the current amount and repeat until entire amount is counted out\n",
    "- Example: To return \\\\$6.39, we choose\n",
    "    - a \\\\$5 bill (total \\\\$5)\n",
    "    - a \\\\$1 bill (total \\\\$6)\n",
    "    - a 25 cent coin (total \\\\$6.25)\n",
    "    - a 10 cent coin (total \\\\$6.35)\n",
    "    - four 1 cent coins (total \\\\$6.39)\n",
    "- For US bills and coins, the greedy algorithm always returns the optimal solution"
   ]
  },
  {
   "cell_type": "code",
   "execution_count": 2,
   "metadata": {},
   "outputs": [
    {
     "data": {
      "text/plain": [
       "[1, 2]"
      ]
     },
     "execution_count": 2,
     "metadata": {},
     "output_type": "execute_result"
    }
   ],
   "source": [
    "l = sorted([1,2,4,3])\n",
    "[li for li in l if li < 3]"
   ]
  },
  {
   "cell_type": "code",
   "execution_count": 3,
   "metadata": {},
   "outputs": [],
   "source": [
    "def cashiers(change, coins): \n",
    "    take = []\n",
    "    while change > 0:\n",
    "        coins = [c for c in coins if c <= change]\n",
    "        take.append(max(coins))\n",
    "        change = change - max(coins)\n",
    "    return take"
   ]
  },
  {
   "cell_type": "code",
   "execution_count": 4,
   "metadata": {},
   "outputs": [
    {
     "data": {
      "text/plain": [
       "[25, 25, 5]"
      ]
     },
     "execution_count": 4,
     "metadata": {},
     "output_type": "execute_result"
    }
   ],
   "source": [
    "cashiers(55, [1,5,10,25,100])"
   ]
  },
  {
   "cell_type": "code",
   "execution_count": 5,
   "metadata": {},
   "outputs": [
    {
     "data": {
      "text/plain": [
       "[100, 1, 1]"
      ]
     },
     "execution_count": 5,
     "metadata": {},
     "output_type": "execute_result"
    }
   ],
   "source": [
    "cashiers(102, [1,5,10,25,100])"
   ]
  },
  {
   "cell_type": "code",
   "execution_count": 6,
   "metadata": {},
   "outputs": [
    {
     "data": {
      "text/plain": [
       "[25, 10, 1]"
      ]
     },
     "execution_count": 6,
     "metadata": {},
     "output_type": "execute_result"
    }
   ],
   "source": [
    "cashiers(36, [1,5,10,25,100])"
   ]
  },
  {
   "cell_type": "markdown",
   "metadata": {},
   "source": [
    "## Minimum Spanning Tree\n",
    "A minimum spanning tree (MST) is a subset of the edges of a connected, edge-weighted undirected graph that connects all the vertices together, without any cycles and with the minimum possible total edge weight."
   ]
  },
  {
   "cell_type": "markdown",
   "metadata": {},
   "source": [
    "Graph from slide 192"
   ]
  },
  {
   "cell_type": "code",
   "execution_count": 7,
   "metadata": {},
   "outputs": [],
   "source": [
    "vertices = ['A','B','C','D','E','F','G']\n",
    "\n",
    "edges = []\n",
    "edges.append(Edge('A','B',7))\n",
    "edges.append(Edge('A','D',5))\n",
    "edges.append(Edge('B','C',8))\n",
    "edges.append(Edge('B','D',9))\n",
    "edges.append(Edge('B','E',7))\n",
    "edges.append(Edge('C','E',5))\n",
    "edges.append(Edge('D','E',15))\n",
    "edges.append(Edge('D','F',6))\n",
    "edges.append(Edge('E','F',8))\n",
    "edges.append(Edge('E','G',11))\n",
    "edges.append(Edge('F','G',11))\n",
    "\n",
    "graph = Graph(vertices, edges)"
   ]
  },
  {
   "cell_type": "code",
   "execution_count": 8,
   "metadata": {},
   "outputs": [
    {
     "data": {
      "text/plain": [
       "[A-B: 7, A-D: 5]"
      ]
     },
     "execution_count": 8,
     "metadata": {},
     "output_type": "execute_result"
    }
   ],
   "source": [
    "graph.es_from_v('A')"
   ]
  },
  {
   "cell_type": "code",
   "execution_count": 9,
   "metadata": {},
   "outputs": [
    {
     "data": {
      "text/plain": [
       "[A-D: 5, A-B: 7]"
      ]
     },
     "execution_count": 9,
     "metadata": {},
     "output_type": "execute_result"
    }
   ],
   "source": [
    "sorted(graph.es_from_v('A'), key=lambda e: e.weight)"
   ]
  },
  {
   "cell_type": "code",
   "execution_count": 10,
   "metadata": {},
   "outputs": [],
   "source": [
    "def reduce_edges(edges, vertices_done):\n",
    "    out_edges = []\n",
    "    for e in edges:\n",
    "        if e.v1 not in vertices_done or e.v2 not in vertices_done:\n",
    "            out_edges.append(e)\n",
    "    return out_edges\n",
    "\n",
    "def mst_kruskal(graph):\n",
    "    mst = []\n",
    "    vertices_done = []\n",
    "    edges = graph.edges\n",
    "    \n",
    "    while(set(vertices_done) != set(graph.vertices)):\n",
    "        edges = sorted(edges, key = lambda e: e.weight)\n",
    "        min_edge = edges.pop(0)\n",
    "        mst.append(min_edge)\n",
    "        \n",
    "        vertices_done.extend([min_edge.v1, min_edge.v2])\n",
    "        edges = reduce_edges(edges, vertices_done)\n",
    "    \n",
    "    return mst"
   ]
  },
  {
   "cell_type": "code",
   "execution_count": 11,
   "metadata": {},
   "outputs": [
    {
     "data": {
      "text/plain": [
       "[A-D: 5, C-E: 5, D-F: 6, A-B: 7, E-G: 11]"
      ]
     },
     "execution_count": 11,
     "metadata": {},
     "output_type": "execute_result"
    }
   ],
   "source": [
    "mst_kruskal(graph)"
   ]
  },
  {
   "cell_type": "markdown",
   "metadata": {},
   "source": [
    "^ Matches solution on slide 192 - 199"
   ]
  },
  {
   "cell_type": "markdown",
   "metadata": {},
   "source": [
    "## Activity Selection"
   ]
  },
  {
   "cell_type": "markdown",
   "metadata": {},
   "source": [
    "- Sort activities in increasing order of finish time.\n",
    "- The activity that finishes first will be included. Initialze output as selected = [activities[0]].\n",
    "- Apply the recursive greedy algorithm to the remainder of the activities, and extend the output list with the recursive solution.\n",
    "    - Recursively finds the activity that finishes earliest and does not conflict with the most recently added activity."
   ]
  },
  {
   "cell_type": "code",
   "execution_count": 12,
   "metadata": {},
   "outputs": [],
   "source": [
    "class Activity():\n",
    "    \n",
    "    def __init__(self, start, finish):\n",
    "        self.start = start\n",
    "        self.finish = finish\n",
    "        \n",
    "    def __repr__(self):\n",
    "        return \"(\" + str(self.start) + \", \" + str(self.finish) + \")\"\n",
    "    \n",
    "def compatable(act1, act2):\n",
    "    if act1.start < act2.start:\n",
    "        first = act1\n",
    "        second = act2\n",
    "    else:\n",
    "        first = act2\n",
    "        second = act1\n",
    "    \n",
    "    return first.finish <= second.start\n",
    "\n",
    "def recursive_activity_select(activities, i, n):\n",
    "    m = i + 1\n",
    "    if m > n:\n",
    "        return []\n",
    "    while m <= n and activities[m].start < activities[i].finish:\n",
    "        m = m + 1\n",
    "    if m <= n:\n",
    "        # then add activity m\n",
    "        return [activities[m]] + recursive_activity_select(activities, m, n)\n",
    "    \n",
    "def activity_select(activities):\n",
    "    activities_sorted = sorted(activities, key = lambda a: a.finish)\n",
    "    \n",
    "    selection = [activities_sorted.pop(0)]\n",
    "    selection += recursive_activity_select(activities_sorted, 0, len(activities_sorted) - 1)\n",
    "    \n",
    "    return selection"
   ]
  },
  {
   "cell_type": "code",
   "execution_count": 13,
   "metadata": {},
   "outputs": [],
   "source": [
    "activities = []\n",
    "activities.append(Activity(1, 4))\n",
    "activities.append(Activity(3, 5))\n",
    "activities.append(Activity(0, 6))\n",
    "activities.append(Activity(5, 7))\n",
    "activities.append(Activity(3, 8))\n",
    "activities.append(Activity(5, 9))\n",
    "activities.append(Activity(6, 10))\n",
    "activities.append(Activity(8, 11))\n",
    "activities.append(Activity(8, 12))\n",
    "activities.append(Activity(2, 13))\n",
    "activities.append(Activity(12, 14))"
   ]
  },
  {
   "cell_type": "code",
   "execution_count": 14,
   "metadata": {},
   "outputs": [
    {
     "data": {
      "text/plain": [
       "False"
      ]
     },
     "execution_count": 14,
     "metadata": {},
     "output_type": "execute_result"
    }
   ],
   "source": [
    "compatable(activities[0], activities[1])"
   ]
  },
  {
   "cell_type": "code",
   "execution_count": 15,
   "metadata": {},
   "outputs": [
    {
     "data": {
      "text/plain": [
       "True"
      ]
     },
     "execution_count": 15,
     "metadata": {},
     "output_type": "execute_result"
    }
   ],
   "source": [
    "compatable(activities[0], activities[3])"
   ]
  },
  {
   "cell_type": "code",
   "execution_count": 16,
   "metadata": {},
   "outputs": [
    {
     "data": {
      "text/plain": [
       "[(1, 4), (5, 7), (8, 11), (12, 14)]"
      ]
     },
     "execution_count": 16,
     "metadata": {},
     "output_type": "execute_result"
    }
   ],
   "source": [
    "activity_select(activities)"
   ]
  }
 ],
 "metadata": {
  "kernelspec": {
   "display_name": "Python 3",
   "language": "python",
   "name": "python3"
  },
  "language_info": {
   "codemirror_mode": {
    "name": "ipython",
    "version": 3
   },
   "file_extension": ".py",
   "mimetype": "text/x-python",
   "name": "python",
   "nbconvert_exporter": "python",
   "pygments_lexer": "ipython3",
   "version": "3.8.5"
  }
 },
 "nbformat": 4,
 "nbformat_minor": 4
}
