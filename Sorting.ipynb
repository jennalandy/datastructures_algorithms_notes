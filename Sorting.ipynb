{
 "cells": [
  {
   "cell_type": "markdown",
   "metadata": {},
   "source": [
    "# Sorting Algorithms"
   ]
  },
  {
   "cell_type": "code",
   "execution_count": 1,
   "metadata": {},
   "outputs": [
    {
     "name": "stdout",
     "output_type": "stream",
     "text": [
      "Requirement already satisfied: ipynb in /Users/jenna/opt/anaconda3/lib/python3.8/site-packages (0.5.1)\n",
      "[2, None, None, None, None, 'cat', 2, None, None, None]\n",
      "[None, None, None, None, None, 'cat', None, None, None, None]\n",
      "['monkey', 'cat', 'dog']\n",
      "['monkey', 'cat']\n",
      "2 dog\n",
      "[3, 1]\n",
      "Not found\n"
     ]
    }
   ],
   "source": [
    "!pip install ipynb\n",
    "from ipynb.fs.full.DataStructures import *"
   ]
  },
  {
   "cell_type": "markdown",
   "metadata": {},
   "source": [
    "## Insertion sort"
   ]
  },
  {
   "cell_type": "markdown",
   "metadata": {},
   "source": [
    "Base Python\n"
   ]
  },
  {
   "cell_type": "code",
   "execution_count": 2,
   "metadata": {},
   "outputs": [],
   "source": [
    "def insert(sorted_list, item_to_sort):\n",
    "    for i in range(len(sorted_list)):\n",
    "        item = sorted_list[i]\n",
    "        if item_to_sort < item:\n",
    "            # insert before and return\n",
    "            return sorted_list[:i] + [item_to_sort] + sorted_list[i:]\n",
    "    # if it got here, its bigger than all items, add it to the end\n",
    "    return sorted_list + [item_to_sort]\n",
    "\n",
    "def insertion(li):\n",
    "    sorted_list = [li[0]]\n",
    "    unsorted_list = li[1:]\n",
    "    while len(unsorted_list) > 0:\n",
    "        item_to_sort = unsorted_list[0]\n",
    "        sorted_list = insert(sorted_list, item_to_sort)\n",
    "        unsorted_list = unsorted_list[1:]\n",
    "    return sorted_list"
   ]
  },
  {
   "cell_type": "code",
   "execution_count": 3,
   "metadata": {},
   "outputs": [
    {
     "data": {
      "text/plain": [
       "[1, 2, 3, 4, 5]"
      ]
     },
     "execution_count": 3,
     "metadata": {},
     "output_type": "execute_result"
    }
   ],
   "source": [
    "insert([1,2,4,5], 3)"
   ]
  },
  {
   "cell_type": "code",
   "execution_count": 4,
   "metadata": {},
   "outputs": [
    {
     "data": {
      "text/plain": [
       "[1, 2, 3, 4, 5]"
      ]
     },
     "execution_count": 4,
     "metadata": {},
     "output_type": "execute_result"
    }
   ],
   "source": [
    "insertion([1,4,3,5,2])"
   ]
  },
  {
   "cell_type": "markdown",
   "metadata": {},
   "source": [
    "Linked List"
   ]
  },
  {
   "cell_type": "markdown",
   "metadata": {},
   "source": [
    "Linked list class defined in [Data Structures Notebook](DataStructures.ipynb)."
   ]
  },
  {
   "cell_type": "code",
   "execution_count": 5,
   "metadata": {},
   "outputs": [],
   "source": [
    "def insert_linked(sorted_li, item_to_sort):\n",
    "    # print(\"sorting\", item_to_sort.key)\n",
    "    item = sorted_li.root\n",
    "    done = False\n",
    "    while not done:\n",
    "        # print(\"comp to\", item.key)\n",
    "        if item_to_sort.key < item.key:\n",
    "            # print(\"insert before\", item.key)\n",
    "            # insert before and return\n",
    "            if item.prev == None:\n",
    "                # print(\"which is before first\")\n",
    "                # insert at front\n",
    "                sorted_li.prepend(item.key, item.value)\n",
    "                return sorted_li\n",
    "            \n",
    "            else:\n",
    "                # print(\"which is in the middle\")\n",
    "                # insert in the middle\n",
    "                item.prev.set_next(item_to_sort)\n",
    "                item_to_sort.set_prev(item.prev)\n",
    "                item.set_prev(item_to_sort)\n",
    "                item_to_sort.set_next(item)\n",
    "                return sorted_li\n",
    "            \n",
    "        if item.next == None:\n",
    "            done = True\n",
    "        else:\n",
    "            item = item.next\n",
    "    \n",
    "    # if it got here, its bigger than all items, add it to the end\n",
    "    # print(\"insert at end\")  \n",
    "    sorted_li.append(item_to_sort.key, item_to_sort.value)\n",
    "    \n",
    "    return sorted_li\n",
    "\n",
    "def insertion_linked(li):\n",
    "    n = li.get_length()\n",
    "    sorted_list = LinkedList(li.root.key, li.root.value)\n",
    "    item_to_sort = li.root.next\n",
    "    while sorted_list.get_length() < n:\n",
    "        next_item_to_sort = item_to_sort.next\n",
    "        sorted_list = insert_linked(sorted_list, item_to_sort)\n",
    "        item_to_sort = next_item_to_sort\n",
    "        # print(sorted_list.get_keys())\n",
    "    return sorted_list"
   ]
  },
  {
   "cell_type": "code",
   "execution_count": 6,
   "metadata": {},
   "outputs": [
    {
     "data": {
      "text/plain": [
       "([1, 4, 3, 9, 5], ['cat', 'giraffe', 'dog', 'porcupine', 'monkey'])"
      ]
     },
     "execution_count": 6,
     "metadata": {},
     "output_type": "execute_result"
    }
   ],
   "source": [
    "li = LinkedList(1, \"cat\")\n",
    "li.append(4, \"giraffe\")\n",
    "li.append(3, \"dog\")\n",
    "li.append(9, \"porcupine\")\n",
    "li.append(5, \"monkey\")\n",
    "li.get_keys(), li.get_values()"
   ]
  },
  {
   "cell_type": "code",
   "execution_count": 7,
   "metadata": {},
   "outputs": [
    {
     "data": {
      "text/plain": [
       "([1, 3, 4, 5, 9], ['cat', 'dog', 'giraffe', 'monkey', 'porcupine'])"
      ]
     },
     "execution_count": 7,
     "metadata": {},
     "output_type": "execute_result"
    }
   ],
   "source": [
    "sorted_li = insertion_linked(li)\n",
    "sorted_li.get_keys(), sorted_li.get_values()"
   ]
  },
  {
   "cell_type": "markdown",
   "metadata": {},
   "source": [
    "## Merge Sort"
   ]
  },
  {
   "cell_type": "code",
   "execution_count": 8,
   "metadata": {},
   "outputs": [],
   "source": [
    "def merge(l1, l2):\n",
    "    # l1 and l2 are sorted lists\n",
    "    \n",
    "    out = []\n",
    "    i = 0\n",
    "    j = 0\n",
    "    while (i < len(l1) and j < len(l2)):\n",
    "        if l1[i] < l2[j]:\n",
    "            out.append(l1[i])\n",
    "            i += 1\n",
    "        elif l1[i] > l2[j]:\n",
    "            out.append(l2[j])\n",
    "            j += 1\n",
    "        else:\n",
    "            out.append(l1[i])\n",
    "            i += 1\n",
    "    if i < len(l1):\n",
    "        # l2 is done, add rest of sorted l1 to end\n",
    "        out += l1[i:]\n",
    "    elif j < len(l2):\n",
    "        out += l2[j:]\n",
    "        \n",
    "    return out"
   ]
  },
  {
   "cell_type": "code",
   "execution_count": 9,
   "metadata": {},
   "outputs": [
    {
     "data": {
      "text/plain": [
       "[1, 2, 3, 4, 5]"
      ]
     },
     "execution_count": 9,
     "metadata": {},
     "output_type": "execute_result"
    }
   ],
   "source": [
    "merge([1,2,4], [3,5])"
   ]
  },
  {
   "cell_type": "code",
   "execution_count": 10,
   "metadata": {},
   "outputs": [],
   "source": [
    "def merge_sort(l):\n",
    "    # print(l)\n",
    "    if len(l) <= 1:\n",
    "        return l\n",
    "    else:\n",
    "        mid = len(l)//2\n",
    "        out = merge(merge_sort(l[:mid]), merge_sort(l[mid:]))\n",
    "        # print(out)\n",
    "        return out"
   ]
  },
  {
   "cell_type": "code",
   "execution_count": 11,
   "metadata": {},
   "outputs": [
    {
     "data": {
      "text/plain": [
       "[0, 1, 2, 3, 4]"
      ]
     },
     "execution_count": 11,
     "metadata": {},
     "output_type": "execute_result"
    }
   ],
   "source": [
    "merge_sort([1,2,4,3,0])"
   ]
  },
  {
   "cell_type": "markdown",
   "metadata": {},
   "source": [
    "## Heapsort"
   ]
  },
  {
   "cell_type": "markdown",
   "metadata": {},
   "source": [
    "Heap class defined in [Data Structures Notebook](DataStructures.ipynb)."
   ]
  },
  {
   "cell_type": "code",
   "execution_count": 12,
   "metadata": {},
   "outputs": [],
   "source": [
    "def heapsort(A):\n",
    "    heap = Heap(capacity = len(A), heaplist = A)\n",
    "    for i in range(len(A), 1, -1):\n",
    "        temp = heap.heaplist[1]\n",
    "        heap.heaplist[1] = heap.heaplist[i]\n",
    "        heap.heaplist[i] = temp\n",
    "        heap.currentsize -= 1\n",
    "        heap.maxHeapify(1)\n",
    "    return heap.heaplist[1:]"
   ]
  },
  {
   "cell_type": "code",
   "execution_count": 13,
   "metadata": {},
   "outputs": [
    {
     "data": {
      "text/plain": [
       "[1, 2, 3, 4, 7, 8, 9, 10, 14, 16]"
      ]
     },
     "execution_count": 13,
     "metadata": {},
     "output_type": "execute_result"
    }
   ],
   "source": [
    "heapsort([4,1,3,2,16,9,10,14,8,7])"
   ]
  }
 ],
 "metadata": {
  "kernelspec": {
   "display_name": "Python 3",
   "language": "python",
   "name": "python3"
  },
  "language_info": {
   "codemirror_mode": {
    "name": "ipython",
    "version": 3
   },
   "file_extension": ".py",
   "mimetype": "text/x-python",
   "name": "python",
   "nbconvert_exporter": "python",
   "pygments_lexer": "ipython3",
   "version": "3.8.5"
  }
 },
 "nbformat": 4,
 "nbformat_minor": 4
}
